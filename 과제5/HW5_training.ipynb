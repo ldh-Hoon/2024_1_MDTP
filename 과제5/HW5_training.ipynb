{
  "cells": [
    {
      "cell_type": "code",
      "execution_count": 1,
      "metadata": {
        "colab": {
          "base_uri": "https://localhost:8080/"
        },
        "id": "J3snZXOluloZ",
        "outputId": "efef58dc-de78-46f9-cf05-7dabf02bdbed"
      },
      "outputs": [
        {
          "name": "stdout",
          "output_type": "stream",
          "text": [
            "Mounted at /content/drive\n"
          ]
        }
      ],
      "source": [
        "from google.colab import drive\n",
        "drive.mount('/content/drive')"
      ]
    },
    {
      "cell_type": "code",
      "execution_count": 2,
      "metadata": {
        "colab": {
          "base_uri": "https://localhost:8080/"
        },
        "id": "FmnD0_tDHcV6",
        "outputId": "fd4ccd1c-4466-46d9-e74e-1ee1aed22aa5"
      },
      "outputs": [
        {
          "name": "stdout",
          "output_type": "stream",
          "text": [
            "Cloning into 'raw_image'...\n",
            "remote: Enumerating objects: 30, done.\u001b[K\n",
            "remote: Counting objects: 100% (30/30), done.\u001b[K\n",
            "remote: Compressing objects: 100% (26/26), done.\u001b[K\n",
            "remote: Total 30 (delta 0), reused 0 (delta 0), pack-reused 0\u001b[K\n",
            "Receiving objects: 100% (30/30), 3.95 MiB | 13.76 MiB/s, done.\n"
          ]
        }
      ],
      "source": [
        "# training & test 이미지 다운로드(제 깃허브에 올렸습니다)\n",
        "!git clone https://github.com/ldh-Hoon/raw_image.git"
      ]
    },
    {
      "cell_type": "markdown",
      "metadata": {
        "id": "GIOaVFozZwG3"
      },
      "source": [
        "# 함수 및 상수"
      ]
    },
    {
      "cell_type": "code",
      "execution_count": 3,
      "metadata": {
        "id": "jH-X0Jp9TvLj"
      },
      "outputs": [],
      "source": [
        "import math #sqrt 사용을 위함\n",
        "import random # 랜덤 사용\n",
        "import os # 올바른 경로로 파일 저장을 위함\n",
        "\n",
        "import matplotlib.pyplot as plt # 그래프 시각화를 위함\n"
      ]
    },
    {
      "cell_type": "code",
      "execution_count": 4,
      "metadata": {
        "id": "PxkB5SfdQIH5"
      },
      "outputs": [],
      "source": [
        "training_path = \"./raw_image/training\"\n",
        "save_path = \"/content/drive/MyDrive/Colab Notebooks/2024_1학기_멀티미디어설계\"\n",
        "number_of_images = 19\n",
        "\n",
        "# 단일 실행 테스트용 N, K\n",
        "K = 4\n",
        "N = 4\n",
        "\n",
        "WIDTH = 512\n",
        "HEIGHT = 512"
      ]
    },
    {
      "cell_type": "code",
      "execution_count": 5,
      "metadata": {
        "id": "oYifEMrjlwOC"
      },
      "outputs": [],
      "source": [
        "# 거리 구하는 함수\n",
        "# 속도를 위해 제곱근 연산을 생략했습니다\n",
        "def get_distance(A, B):\n",
        "    dist = 0.0\n",
        "    for i in range(len(A)):\n",
        "        dist += (B[i] - A[i])*(B[i] - A[i])\n",
        "    #dist = math.sqrt(dist)\n",
        "    return dist"
      ]
    },
    {
      "cell_type": "code",
      "execution_count": 6,
      "metadata": {
        "id": "rqU1OIlVIY0h"
      },
      "outputs": [],
      "source": [
        "# 이미지 로드\n",
        "def load_training_images():\n",
        "    images = []\n",
        "    for index in range(number_of_images):\n",
        "        with open(f\"{training_path}/I{index}.img\", \"rb\") as f:\n",
        "            content = f.read()\n",
        "        images.append(content)\n",
        "    return images"
      ]
    },
    {
      "cell_type": "code",
      "execution_count": 7,
      "metadata": {
        "id": "Hfex9wbVQxw-"
      },
      "outputs": [],
      "source": [
        "# k 크기로 자르기\n",
        "def split_images(images, kk):\n",
        "    training_data = []\n",
        "    k = int(math.sqrt(kk))\n",
        "    for image in images:\n",
        "        y = 0\n",
        "        while(y < HEIGHT):\n",
        "            x = 0\n",
        "            while(x < WIDTH):\n",
        "                temp = []\n",
        "                for dy in range(k):\n",
        "                    for dx in range(k):\n",
        "                        if (y+dy) >= HEIGHT or (x+dx) >= WIDTH:\n",
        "                            break\n",
        "                        temp.append(int(image[(y+dy)*HEIGHT + (x+dx)]))\n",
        "\n",
        "                training_data.append(temp)\n",
        "                x += k\n",
        "            y += k\n",
        "    return training_data"
      ]
    },
    {
      "cell_type": "code",
      "execution_count": 8,
      "metadata": {
        "id": "Dudlb6fIUbk8"
      },
      "outputs": [],
      "source": [
        "# 초기화 방법 세가지 구현\n",
        "\n",
        "# 랜덤 초기화\n",
        "def make_random_center(n, k):\n",
        "    output = []\n",
        "    for i in range(n):\n",
        "        temp = []\n",
        "        for j in range(k):\n",
        "            temp.append(random.uniform(0, 256))\n",
        "        output.append(temp)\n",
        "    return output\n",
        "\n",
        "# 랜덤 샘플링 초기화(매번 기존 점보다 가장 먼 초기점을 sample_num중에서 선택)\n",
        "def make_far_center(n, k, sample_num=200):\n",
        "    output = []\n",
        "    S = []\n",
        "    for i in range(sample_num):\n",
        "        temp = []\n",
        "        for j in range(k):\n",
        "            temp.append(random.uniform(0, 256))\n",
        "        S.append(temp)\n",
        "\n",
        "    past_index = []\n",
        "    past_max = []\n",
        "\n",
        "    # 하나를 랜덤하게 고름\n",
        "    past_index.append(random.randint(0, sample_num))\n",
        "    output.append(S[past_index[0]])\n",
        "    for index in range(n - 1):\n",
        "        max_dist = 0\n",
        "        max_index = 0\n",
        "        dist = [0.0 for _ in range(sample_num)]\n",
        "        for i in range(0, index + 1):\n",
        "            for j in range(sample_num):\n",
        "                dist[j] += get_distance(output[i], S[j])\n",
        "        for j in range(sample_num):\n",
        "            if dist[j] > max_dist:\n",
        "                if not j in past_index and not max_dist in past_max:\n",
        "                    max_dist = dist[j]\n",
        "                    max_index = j\n",
        "                    past_max.append(max_dist)\n",
        "                    past_index.append(j)\n",
        "        output.append(S[max_index])\n",
        "    return output\n",
        "\n",
        "# 분할하기(분산이 가장 큰 축부터 분산과 epsilon에 비례하게 쪼갬)\n",
        "def make_center_by_variance(data, n, k, epsilon):\n",
        "    output = []\n",
        "    total_mean = [0.0 for _ in range(k)]\n",
        "    variance = [0 for _ in range(k)]\n",
        "    max_var = [0 for _ in range(k)]\n",
        "    max_var_index = [0 for _ in range(k)]\n",
        "    for d in data:\n",
        "        for i in range(k):\n",
        "            total_mean[i] += d[i]\n",
        "    for i in range(k):\n",
        "        total_mean[i] /= len(data)\n",
        "    for d in data:\n",
        "        for i in range(k):\n",
        "            variance[i] += (d[i]-total_mean[i])*(d[i]-total_mean[i])\n",
        "\n",
        "    for i in range(k):\n",
        "        variance[i] /= len(data)\n",
        "        max_var[i] = variance[i]\n",
        "        max_var_index[i] = i\n",
        "    for i in range(k):\n",
        "        for j in range(k):\n",
        "            if max_var[max_var_index[j]] > max_var[max_var_index[i]]:\n",
        "                if max_var_index[j] > max_var_index[i]:\n",
        "                    temp = max_var_index[i]\n",
        "                    max_var_index[i] = max_var_index[j]\n",
        "                    max_var_index[j] = temp\n",
        "    prev = []\n",
        "    prev.append(total_mean)\n",
        "    index = 0\n",
        "    for i in range(int(math.log2(n))):\n",
        "        temp = []\n",
        "        for p in prev:\n",
        "            for j in range(k):\n",
        "                if j == max_var_index[index]:\n",
        "                    a = []\n",
        "                    b = []\n",
        "                    for pp in p:\n",
        "                        a.append(pp)\n",
        "                        b.append(pp)\n",
        "                    a[j] = a[j] + epsilon*((max_var[j]-max_var[max_var_index[k-1]])/(max_var[max_var_index[0]]-max_var[max_var_index[k-1]]))\n",
        "                    b[j] = b[j] - epsilon*((max_var[j]-max_var[max_var_index[k-1]])/(max_var[max_var_index[0]]-max_var[max_var_index[k-1]]))\n",
        "                    temp.append(a)\n",
        "                    temp.append(b)\n",
        "\n",
        "        prev = []\n",
        "        for t in temp:\n",
        "            prev.append(t)\n",
        "        index += 1\n",
        "        if index >= k:\n",
        "            index = 0\n",
        "    return prev, max_var_index\n",
        "\n",
        "def make_add_center(prev, k, index, epsilon):\n",
        "    output = []\n",
        "    for p in prev:\n",
        "        a = []\n",
        "        b = []\n",
        "        for pp in p:\n",
        "            a.append(pp)\n",
        "            b.append(pp)\n",
        "        for j in range(k):\n",
        "            if j == index:\n",
        "                a[j] = a[j] + epsilon\n",
        "                b[j] = b[j] - epsilon\n",
        "                index += 1\n",
        "                if index >= k:\n",
        "                    index = 0\n",
        "                    break\n",
        "        output.append(a)\n",
        "        output.append(b)\n",
        "    return output"
      ]
    },
    {
      "cell_type": "code",
      "execution_count": 9,
      "metadata": {
        "id": "aEV4JXGUUV5U"
      },
      "outputs": [],
      "source": [
        "# 가장 가까운 중심으로 분류\n",
        "def get_set(data, center):\n",
        "    sets = dict()\n",
        "    for i in range(len(center)):\n",
        "        sets[i] = {\n",
        "            'center':center[i],\n",
        "            'data':[],\n",
        "            'delta_center' : []\n",
        "        }\n",
        "    for index in range(len(data)):\n",
        "        min_dist = -1\n",
        "        c = 0\n",
        "        for center_num in range(len(center)):\n",
        "            d = get_distance(data[index], center[center_num])\n",
        "            if min_dist==-1:\n",
        "                min_dist = d\n",
        "                c = center_num\n",
        "            else:\n",
        "                if min_dist > d:\n",
        "                    min_dist = d\n",
        "                    c = center_num\n",
        "        sets[c]['data'].append(data[index])\n",
        "    return sets\n",
        "\n",
        "# 평균 중심 업데이트\n",
        "def update_center(sets):\n",
        "    k = len(sets[0]['center'])\n",
        "    for s in sets:\n",
        "        num = len(sets[s]['data'])\n",
        "        if num > 0:\n",
        "            center = [0 for _ in range(k)]\n",
        "            for d in sets[s]['data']:\n",
        "                for i in range(k):\n",
        "                    center[i] += d[i]\n",
        "            for i in range(k):\n",
        "                center[i] /= num\n",
        "                sets[s]['delta_center'].append(abs(sets[s]['center'][i]-center[i]))\n",
        "            sets[s]['center'] = []\n",
        "            for c in center:\n",
        "                sets[s]['center'].append(c)\n",
        "\n",
        "# 정보 확인용\n",
        "def print_sets(sets):\n",
        "    for s in sets:\n",
        "        print(f\"{s}번째 그룹\")\n",
        "        print(\"중심:\", sets[s]['center'])\n",
        "        print(f\"{len(sets[s]['data'])}개\")\n"
      ]
    },
    {
      "cell_type": "code",
      "execution_count": 10,
      "metadata": {
        "id": "Dg5a6rVntdEh"
      },
      "outputs": [],
      "source": [
        "# 중심값들을 저장\n",
        "def save_centers(sets, k, n, center_type):\n",
        "    if not os.path.isdir(f'{save_path}'):\n",
        "        os.mkdir(f'{save_path}')\n",
        "    if not os.path.isdir(f'{save_path}/{center_type}'):\n",
        "        os.mkdir(f'{save_path}/{center_type}')\n",
        "    with open(f\"{save_path}/{center_type}/clustering_K{k}_N{n}.txt\", \"w\") as f:\n",
        "        for center in [sets[i]['center'] for i in range(len(sets))]:\n",
        "            for c in center:\n",
        "                f.write(str(c))\n",
        "                f.write(' ')\n",
        "            f.write('\\n')\n",
        "    print(f\">>>{save_path}/{center_type}/clustering_K{k}_N{n}.txt 저장 완료\")"
      ]
    },
    {
      "cell_type": "code",
      "execution_count": 11,
      "metadata": {
        "id": "WqJGxNE5zIQz"
      },
      "outputs": [],
      "source": [
        "# mse 계산 함수\n",
        "def get_mse(data, centers):\n",
        "    mse = 0\n",
        "    for d in data:\n",
        "        min_dist = -1\n",
        "        c = 0\n",
        "        for center_num in range(len(centers)):\n",
        "            dist = get_distance(d, centers[center_num])\n",
        "            if min_dist==-1:\n",
        "                min_dist = dist\n",
        "                c = center_num\n",
        "            else:\n",
        "                if min_dist > dist:\n",
        "                    min_dist = dist\n",
        "                    c = center_num\n",
        "        sum = 0\n",
        "        for i in range(len(d)):\n",
        "            sum += (d[i] - centers[c][i])*(d[i] - centers[c][i])\n",
        "        mse += sum\n",
        "    mse /= len(data)\n",
        "    return mse\n"
      ]
    },
    {
      "cell_type": "code",
      "execution_count": 12,
      "metadata": {
        "id": "Ub2A4HFw3SMK"
      },
      "outputs": [],
      "source": [
        "def save_history(history, k, n, center_type):\n",
        "    step = [x+1 for x in range(len(history))]\n",
        "    change = [x for x in history]\n",
        "\n",
        "    plt.figure(figsize=(10, 5))\n",
        "    plt.plot(step, change, linestyle='-', color='blue')\n",
        "    plt.title(f'{center_type},k:{k}, n:{n} history')\n",
        "    plt.xlabel('step')\n",
        "    plt.ylabel('changes')\n",
        "\n",
        "    plt.savefig(f'{save_path}/{center_type}/history_clustering_K{k}_N{n}.png')\n",
        "    plt.show()\n",
        "def save_mse_history(mse_history, k, n, center_type):\n",
        "    step = [x+1 for x in range(len(mse_history))]\n",
        "    mse = [x for x in mse_history]\n",
        "\n",
        "    plt.figure(figsize=(10, 5))\n",
        "    plt.plot(step, mse, linestyle='-', color='blue')\n",
        "    plt.title(f'{center_type},k:{k}, n:{n} MSE of training data\\nbest:{mse[-1]}')\n",
        "    plt.xlabel('step')\n",
        "    plt.ylabel('MSE')\n",
        "\n",
        "    plt.savefig(f'{save_path}/{center_type}/mse_history_clustering_K{k}_N{n}.png')\n",
        "    plt.show()"
      ]
    },
    {
      "cell_type": "code",
      "execution_count": 13,
      "metadata": {
        "id": "TCYQg99fVJNS"
      },
      "outputs": [],
      "source": [
        "def train(data, center_type, n, k, epsilon):\n",
        "    print(f\">>> k:{k}, n:{n}, {center_type} 학습 시작\")\n",
        "    centers = []\n",
        "    if center_type == 'variance':\n",
        "        centers, max_var_index = make_center_by_variance(data, n, k, epsilon)\n",
        "    elif center_type == 'far':\n",
        "        centers = make_far_center(n, k)\n",
        "    elif center_type == 'random':\n",
        "        centers = make_random_center(n, k)\n",
        "    elif center_type == 'adding':\n",
        "        centers, max_var_index = make_center_by_variance(data, 2, k, epsilon)\n",
        "\n",
        "        sets = get_set(data, centers)\n",
        "\n",
        "        mse_history = []\n",
        "        history = []\n",
        "        _n = 2\n",
        "        i = 0\n",
        "        while(1):\n",
        "            print(f\"split to {_n}\")\n",
        "            change = 1\n",
        "            change_d = 1\n",
        "            index = 0\n",
        "            mse_d = 1\n",
        "            flag = 0\n",
        "            while(flag < 3 and index < 200):\n",
        "                index += 1\n",
        "                sets = get_set(data, [sets[i]['center'] for i in range(len(sets))])\n",
        "                update_center(sets)\n",
        "                #print_sets(sets)\n",
        "\n",
        "                change = 0\n",
        "                for s in sets:\n",
        "                    for d in sets[s]['delta_center']:\n",
        "                        change += d\n",
        "                    if len(sets[s]['delta_center']) != 0:\n",
        "                        change /= len(sets[s]['delta_center'])\n",
        "                print(f\"{index}번째 평균 중심 이동:{change}\")\n",
        "                if index > 3 and change < 0.0001:\n",
        "                    flag += 1\n",
        "                history.append(change)\n",
        "                mse_history.append(get_mse(data, [sets[i]['center'] for i in range(len(sets))]))\n",
        "\n",
        "            sets = get_set(data, [sets[i]['center'] for i in range(len(sets))])\n",
        "            print(f\"총 {index}번 업데이트\")\n",
        "            #print_sets(sets)\n",
        "            save_centers(sets, k, _n, center_type)\n",
        "\n",
        "            _n *= 2\n",
        "            if _n > n:\n",
        "                break\n",
        "            else:\n",
        "                mse_d = 1\n",
        "                centers = make_add_center([sets[i]['center'] for i in range(len(sets))], k, i, epsilon)\n",
        "                sets = get_set(data, centers)\n",
        "                i += 1\n",
        "                if i >= k:\n",
        "                    i = 0\n",
        "\n",
        "        return sets, history, mse_history\n",
        "\n",
        "    sets = get_set(data, centers)\n",
        "\n",
        "    mse_history = []\n",
        "    history = []\n",
        "    change = 1\n",
        "    change_d = 1\n",
        "    mse_d = 1\n",
        "    index = 0\n",
        "    flag = 0\n",
        "    while(flag < 3 and index < 200):\n",
        "        index += 1\n",
        "        sets = get_set(data, [sets[i]['center'] for i in range(len(sets))])\n",
        "        update_center(sets)\n",
        "\n",
        "        change = 0\n",
        "        for s in sets:\n",
        "            for d in sets[s]['delta_center']:\n",
        "                change += d\n",
        "            if len(sets[s]['delta_center']) != 0:\n",
        "                change /= len(sets[s]['delta_center'])\n",
        "        #print(f\"{index}번째 평균 중심 이동:{change}\")\n",
        "        if index > 3 and change < 0.0001:\n",
        "            flag += 1\n",
        "        history.append(change)\n",
        "        mse_history.append(get_mse(data, [sets[i]['center'] for i in range(len(sets))]))\n",
        "\n",
        "    sets = get_set(data, [sets[i]['center'] for i in range(len(sets))])\n",
        "    print(f\"총 {index}번 업데이트\")\n",
        "    #print_sets(sets)\n",
        "    save_centers(sets, k, n, center_type)\n",
        "    return sets, history, mse_history"
      ]
    },
    {
      "cell_type": "markdown",
      "metadata": {
        "id": "LXqbqXg-yw-Q"
      },
      "source": [
        "# 단일 실행 테스트"
      ]
    },
    {
      "cell_type": "code",
      "execution_count": 14,
      "metadata": {
        "colab": {
          "base_uri": "https://localhost:8080/"
        },
        "id": "Op2kVBjSLI-T",
        "outputId": "d98fdf23-354b-4528-fa0d-e167ca0c12ad"
      },
      "outputs": [
        {
          "name": "stdout",
          "output_type": "stream",
          "text": [
            "데이터 총 개수 : 311296, 차원 : 16\n"
          ]
        }
      ],
      "source": [
        "images = load_training_images()\n",
        "train_data = split_images(images, K)\n",
        "print(f\"데이터 총 개수 : {len(train_data)}, 차원 : {len(train_data[0])}\")"
      ]
    },
    {
      "cell_type": "code",
      "execution_count": null,
      "metadata": {
        "colab": {
          "base_uri": "https://localhost:8080/"
        },
        "id": "Q0qs48dsdiTV",
        "outputId": "9da4908d-5fe6-4c50-b7f9-0a1dafcc89e3"
      },
      "outputs": [
        {
          "name": "stdout",
          "output_type": "stream",
          "text": [
            ">>> k:16, n:4, random 학습 시작\n",
            "총 24번 업데이트\n",
            ">>>/content/drive/MyDrive/Colab Notebooks/2024_1학기_멀티미디어설계/random/clustering_K16_N4.txt 저장 완료\n"
          ]
        }
      ],
      "source": [
        "sets, history, mse_history = train(train_data, 'random', N, K, 0.01)"
      ]
    },
    {
      "cell_type": "code",
      "execution_count": null,
      "metadata": {
        "colab": {
          "base_uri": "https://localhost:8080/"
        },
        "id": "CoiCfgDCoN_Z",
        "outputId": "cc6ee598-518f-4b3d-f4c5-b7db4f09f159"
      },
      "outputs": [
        {
          "name": "stdout",
          "output_type": "stream",
          "text": [
            ">>>/content/drive/MyDrive/Colab Notebooks/2024_1학기_멀티미디어설계/random/clustering_K16_N4.txt 저장 완료\n"
          ]
        },
        {
          "data": {
            "text/plain": [
              "7665.741067430817"
            ]
          },
          "execution_count": 42,
          "metadata": {},
          "output_type": "execute_result"
        }
      ],
      "source": [
        "# 저장\n",
        "save_centers(sets, K, N, 'random')\n",
        "\n",
        "# train 데이터에 대한 mse\n",
        "mse_history[-1]"
      ]
    },
    {
      "cell_type": "code",
      "execution_count": null,
      "metadata": {
        "colab": {
          "base_uri": "https://localhost:8080/",
          "height": 893
        },
        "id": "imEP2TR13UVN",
        "outputId": "19a17def-4f0f-4ee5-ed87-8e1885e68d45"
      },
      "outputs": [
        {
          "data": {
            "image/png": "[encoded data removed]",
            "text/plain": [
              "<Figure size 1000x500 with 1 Axes>"
            ]
          },
          "metadata": {},
          "output_type": "display_data"
        },
        {
          "data": {
            "image/png": "[encoded data removed]",
            "text/plain": [
              "<Figure size 1000x500 with 1 Axes>"
            ]
          },
          "metadata": {},
          "output_type": "display_data"
        }
      ],
      "source": [
        "save_history(history, K, N, 'random')\n",
        "save_mse_history(mse_history, K, N, 'random')"
      ]
    },
    {
      "cell_type": "markdown",
      "metadata": {
        "id": "VFJB5OA-dUUF"
      },
      "source": [
        "# 다회 시행(멀티프로세싱, 4가지 초기화)\n",
        "\n",
        "제 노트북이나 무료 colab에서는 너무 느려서 colab pro의 TPUv2(96개 코어)를 사용해\n",
        "위 코드를 병렬처리하도록 했습니다\n",
        "\n",
        "실행 시 사용 가능한 코어 전부에 작업을 할당합니다"
      ]
    },
    {
      "cell_type": "code",
      "execution_count": null,
      "metadata": {
        "colab": {
          "base_uri": "https://localhost:8080/"
        },
        "id": "t880n7kwZOIC",
        "outputId": "a4983ada-c22f-4e25-f181-fb9d36bd10e5"
      },
      "outputs": [
        {
          "name": "stdout",
          "output_type": "stream",
          "text": [
            "사용 가능한 cpu core 96개\n",
            "processor\t: 0\n",
            "vendor_id\t: GenuineIntel\n",
            "cpu family\t: 6\n",
            "model\t\t: 85\n",
            "model name\t: Intel(R) Xeon(R) CPU @ 2.00GHz\n",
            "stepping\t: 3\n",
            "microcode\t: 0xffffffff\n",
            "cpu MHz\t\t: 2000.206\n",
            "cache size\t: 39424 KB\n",
            "physical id\t: 0\n"
          ]
        }
      ],
      "source": [
        "import multiprocessing as mp\n",
        "\n",
        "print(f\"사용 가능한 cpu core {mp.cpu_count()}개\")\n",
        "\n",
        "!head /proc/cpuinfo"
      ]
    },
    {
      "cell_type": "code",
      "execution_count": null,
      "metadata": {
        "id": "TCpOM9Zv6Hf9"
      },
      "outputs": [],
      "source": [
        "from multiprocessing import Pool\n",
        "\n",
        "# 전체 실행 코드\n",
        "\n",
        "def train_and_save(params):\n",
        "    train_data, center_type, n, k = params\n",
        "    if center_type != 'adding' or n == 128:\n",
        "        sets, history, mse_history = train(train_data, center_type, n, k, 0.0001)\n",
        "\n",
        "        save_centers(sets, k, n, center_type)\n",
        "\n",
        "        print(f\"MSE for {center_type}, n={n}, k={k}: {mse_history[-1]}\")\n",
        "\n",
        "        save_history(history, k, n, center_type)\n",
        "        save_mse_history(mse_history, k, n, center_type)\n",
        "\n",
        "def main():\n",
        "    images = load_training_images()\n",
        "    tasks = []\n",
        "    total_data = []\n",
        "    index = 0\n",
        "    for k in [4, 16, 64]:\n",
        "        total_data.append(split_images(images, k))\n",
        "        print(f\"데이터 총 개수 : {len(total_data[index])}, 차원 : {len(total_data[index][0])}\")\n",
        "\n",
        "        for center_type in ['far', 'random', 'variance', 'adding']: # ['far', 'random', 'variance', 'adding']\n",
        "            if center_type != 'adding':\n",
        "                for n in [4, 8, 16, 32, 64, 128]:\n",
        "                    tasks.append((total_data[index], center_type, n, k))\n",
        "            else:\n",
        "                tasks.append((total_data[index], center_type, 128, k))\n",
        "        index += 1\n",
        "\n",
        "    with Pool(processes=mp.cpu_count()) as pool:\n",
        "        pool.map(train_and_save, tasks)\n",
        "\n",
        "if __name__ == \"__main__\":\n",
        "    main()\n"
      ]
    },
    {
      "cell_type": "markdown",
      "metadata": {
        "id": "hMRTJ418Ptua"
      },
      "source": [
        "# 멀티프로세싱(계산 과정 병렬처리)\n",
        "\n",
        "중심을 분할해가며 계산하는 초기화 방식(adding)만 따로 빠르게 진행하기 위해\n",
        "관련 함수를 멀티프로세싱 처리한 코드입니다.\n",
        "\n",
        "adding k= 4, 16, 64만 빠르게 계산합니다"
      ]
    },
    {
      "cell_type": "code",
      "execution_count": 14,
      "metadata": {
        "id": "w0Gm-8DgPxLN"
      },
      "outputs": [],
      "source": [
        "from multiprocessing import Pool\n",
        "import multiprocessing as mp\n",
        "\n",
        "# 데이터 분할 함수\n",
        "def chunkify(data, num_chunks):\n",
        "    for i in range(0, len(data), num_chunks):\n",
        "        if i + num_chunks >= len(data):\n",
        "            yield data[i:]\n",
        "        yield data[i:i + num_chunks]"
      ]
    },
    {
      "cell_type": "code",
      "execution_count": 15,
      "metadata": {
        "id": "-f97eTzfP4aE"
      },
      "outputs": [],
      "source": [
        "\n",
        "def get_set_sub(data, center):\n",
        "    sets = dict()\n",
        "    for i in range(len(center)):\n",
        "        sets[i] = {\n",
        "            'center':center[i],\n",
        "            'data':[],\n",
        "            'delta_center' : []\n",
        "        }\n",
        "    for index in range(len(data)):\n",
        "        min_dist = -1\n",
        "        c = 0\n",
        "        for center_num in range(len(center)):\n",
        "            d = get_distance(data[index], center[center_num])\n",
        "            if min_dist==-1:\n",
        "                min_dist = d\n",
        "                c = center_num\n",
        "            else:\n",
        "                if min_dist > d:\n",
        "                    min_dist = d\n",
        "                    c = center_num\n",
        "        sets[c]['data'].append(data[index])\n",
        "    return sets\n",
        "\n",
        "def get_set(data, center, num_processes=mp.cpu_count()):\n",
        "    pool = Pool(processes=num_processes)\n",
        "    data_chunks = list(chunkify(data, 1+len(data) // num_processes))\n",
        "    results = [pool.apply_async(get_set_sub, args=(chunk, center)) for chunk in data_chunks]\n",
        "    pool.close()\n",
        "    pool.join()\n",
        "\n",
        "    sets = dict()\n",
        "    for i in range(len(center)):\n",
        "        sets[i] = {\n",
        "            'center':center[i],\n",
        "            'data':[],\n",
        "            'delta_center' : []\n",
        "        }\n",
        "    for _result in results:\n",
        "        result = _result.get()\n",
        "        for r in result:\n",
        "            if r in sets:\n",
        "                for d in result[r]['data']:\n",
        "                    sets[r]['data'].append(d)\n",
        "    return sets"
      ]
    },
    {
      "cell_type": "code",
      "execution_count": null,
      "metadata": {
        "id": "5GMO7AE_Rtwr"
      },
      "outputs": [],
      "source": [
        "for k in [4, 16, 64]:\n",
        "    images = load_training_images()\n",
        "    train_data = split_images(images, k)\n",
        "    print(f\"데이터 총 개수 : {len(train_data)}, 차원 : {len(train_data[0])}\")\n",
        "    for center_type in ['adding']:\n",
        "        if center_type!= 'adding':\n",
        "            for n in [4, 8, 16, 32, 64, 128]:\n",
        "                sets, history, mse_history = train(train_data, center_type, n, k, 0.0001)\n",
        "\n",
        "                # 저장\n",
        "                save_centers(sets, k, n, center_type)\n",
        "\n",
        "                save_history(history, k, n, center_type)\n",
        "                save_mse_history(mse_history, k, n, center_type)\n",
        "        else:\n",
        "            sets, history, mse_history = train(train_data, center_type, 128, k, 0.0001)\n",
        "\n",
        "            # 저장\n",
        "            save_centers(sets, k, 128, center_type)\n",
        "\n",
        "            save_history(history, k, 128, center_type)\n",
        "            save_mse_history(mse_history, k, 128, center_type)\n"
      ]
    }
  ],
  "metadata": {
    "colab": {
      "machine_shape": "hm",
      "provenance": [],
      "toc_visible": true
    },
    "kernelspec": {
      "display_name": "Python 3",
      "name": "python3"
    },
    "language_info": {
      "name": "python"
    }
  },
  "nbformat": 4,
  "nbformat_minor": 0
}
